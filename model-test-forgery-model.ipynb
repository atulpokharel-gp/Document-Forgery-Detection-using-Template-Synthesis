{
 "cells": [
  {
   "cell_type": "code",
   "execution_count": 7,
   "id": "596a29d1",
   "metadata": {},
   "outputs": [],
   "source": [
    "from tensorflow import keras\n",
    "!pip install pydot\n",
    "!pip install pydotplus\n",
    "\n",
    "\n",
    "# Load the model from the H5 file\n",
    "# model = keras.models.load_model('model3.h5')"
   ]
  },
  {
   "cell_type": "code",
   "execution_count": 8,
   "id": "8b2f9ed8",
   "metadata": {},
   "outputs": [],
   "source": [
    "image_size = (128, 128)\n",
    "def convert_to_ela_image(path, quality):\n",
    "    temp_filename = 'temp_file_name.jpg'\n",
    "    ela_filename = 'temp_ela.png'\n",
    "    \n",
    "    image = Image.open(path).convert('RGB')\n",
    "    image.save(temp_filename, 'JPEG', quality = quality)\n",
    "    temp_image = Image.open(temp_filename)\n",
    "    \n",
    "    ela_image = ImageChops.difference(image, temp_image)\n",
    "    \n",
    "    extrema = ela_image.getextrema()\n",
    "    max_diff = max([ex[1] for ex in extrema])\n",
    "    if max_diff == 0:\n",
    "        max_diff = 1\n",
    "    scale = 255.0 / max_diff\n",
    "    \n",
    "    ela_image = ImageEnhance.Brightness(ela_image).enhance(scale)\n",
    "    \n",
    "    return ela_image"
   ]
  },
  {
   "cell_type": "code",
   "execution_count": 9,
   "id": "9c77f1a6",
   "metadata": {},
   "outputs": [],
   "source": [
    "def prepare_image(image_path):\n",
    "    return np.array(convert_to_ela_image(image_path, 90).resize(image_size)).flatten() / 255.0"
   ]
  },
  {
   "cell_type": "code",
   "execution_count": 10,
   "id": "448a2f1a",
   "metadata": {},
   "outputs": [
    {
     "name": "stdout",
     "output_type": "stream",
     "text": [
      "enter image\n",
      "NoneD:/hackathone/dataset-doctor-bills/fake/forged-type01-002.tif\n",
      "1/1 [==============================] - 0s 174ms/step\n"
     ]
    }
   ],
   "source": [
    "from tensorflow import keras\n",
    "import numpy as np\n",
    "from PIL import Image\n",
    "from PIL import Image, ImageChops, ImageEnhance\n",
    "\n",
    "# Assuming you have loaded your model and have test data available\n",
    "model = keras.models.load_model('C:/Users/atulp/Desktop/final ocr model file/image manipulation/model.h5')\n",
    "real_image_path=input(print(\"enter image\"))\n",
    "image = prepare_image(real_image_path)\n",
    "image = image.reshape(-1, 128, 128, 3)\n",
    "\n",
    "y_pred = model.predict(image)\n",
    "y_pred_class = np.argmax(y_pred)\n",
    "\n",
    "\n"
   ]
  },
  {
   "cell_type": "code",
   "execution_count": 11,
   "id": "d50a878f",
   "metadata": {},
   "outputs": [
    {
     "name": "stdout",
     "output_type": "stream",
     "text": [
      "predclass 1\n"
     ]
    }
   ],
   "source": [
    "print(\"predclass\", y_pred_class)\n",
    "class_names = ['fake', 'real']"
   ]
  },
  {
   "cell_type": "code",
   "execution_count": 22,
   "id": "c720c823",
   "metadata": {},
   "outputs": [
    {
     "name": "stdout",
     "output_type": "stream",
     "text": [
      "real\n"
     ]
    }
   ],
   "source": [
    "if ( y_pred_class == 0):\n",
    "    predicted=class_names[0]\n",
    "    print(predicted)\n",
    "elif ( y_pred_class == 1 ):\n",
    "    predicted=class_names[1]\n",
    "    print(predicted)"
   ]
  },
  {
   "cell_type": "code",
   "execution_count": 19,
   "id": "5f11d872",
   "metadata": {},
   "outputs": [
    {
     "ename": "NameError",
     "evalue": "name 'predicted' is not defined",
     "output_type": "error",
     "traceback": [
      "\u001b[1;31m---------------------------------------------------------------------------\u001b[0m",
      "\u001b[1;31mNameError\u001b[0m                                 Traceback (most recent call last)",
      "Cell \u001b[1;32mIn[19], line 1\u001b[0m\n\u001b[1;32m----> 1\u001b[0m \u001b[43mpredicted\u001b[49m\n",
      "\u001b[1;31mNameError\u001b[0m: name 'predicted' is not defined"
     ]
    }
   ],
   "source": [
    "# predicted"
   ]
  },
  {
   "cell_type": "code",
   "execution_count": null,
   "id": "c9b27c9b",
   "metadata": {},
   "outputs": [],
   "source": []
  }
 ],
 "metadata": {
  "kernelspec": {
   "display_name": "Python 3 (ipykernel)",
   "language": "python",
   "name": "python3"
  },
  "language_info": {
   "codemirror_mode": {
    "name": "ipython",
    "version": 3
   },
   "file_extension": ".py",
   "mimetype": "text/x-python",
   "name": "python",
   "nbconvert_exporter": "python",
   "pygments_lexer": "ipython3",
   "version": "3.10.10"
  }
 },
 "nbformat": 4,
 "nbformat_minor": 5
}
